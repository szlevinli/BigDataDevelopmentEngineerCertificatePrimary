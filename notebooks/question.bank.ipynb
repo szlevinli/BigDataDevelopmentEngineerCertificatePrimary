{
 "cells": [
  {
   "cell_type": "markdown",
   "metadata": {},
   "source": [
    "# 大数据开发工程师证书(初级)\n",
    "\n",
    "## 对于来自正态总体的 $n$ 个简单随机样本 $X$, $S^2$ 是 $n$ 个样本的样本方差, $\\delta^2$ 是总体方差, 那么比值 $\\frac{(n-1)S^2}{\\delta^2}$ 可近似服从:\n",
    "\n",
    "> 答: **自由度为 $n-1$ 的 $X^2$ 分布**\n",
    "\n",
    "考点: 卡方分布和 F 分布\n"
   ]
  },
  {
   "cell_type": "markdown",
   "metadata": {},
   "source": [
    "## 预计项目 A 在 7 年后可获利 800 万元, 如年利率为 10% 时, 该项目收益现值为:\n",
    "\n",
    "> 答: 410.53\n",
    "\n",
    "考点: 现值 present value (PV), 未来值 future value (FV)\n",
    "\n",
    "$$\n",
    "\\begin{align*}\n",
    "FV &= PV(1 + i)^n \\\\\n",
    "\n",
    "PV &= \\frac{FV}{(1 + i)^n}\n",
    "\\end{align*}\n",
    "$$\n",
    "\n",
    "Where:\n",
    "\n",
    "- i = nominal annual interest rate in percentage terms 利率\n",
    "- n = number of compounding periods 期数\n",
    "\n",
    "本题中 $FV = 800, i = 0.1, n = 7$, 求 $PV$, 带入公式\n",
    "\n",
    "$$\n",
    "\\begin{align*}\n",
    "PV &= \\frac{FV}{(1 + i)^n} \\\\\n",
    "   &= \\frac{800}{(1 + 0.1)^7} \\\\\n",
    "   &= 410.53\n",
    "\\end{align*}\n",
    "$$\n",
    "\n",
    "复利 compound interest\n",
    "\n",
    "$$\n",
    "\\begin{align*}\n",
    "CompoundInterest &= [P(1+i)^n]-P \\\\\n",
    "                  &= P[(1+i)^n-1]\n",
    "\\end{align*}\n",
    "$$\n",
    "\n",
    "Where:\n",
    "\n",
    "- P = principal 本金\n",
    "- i = nominal annual interest rate in percentage terms 利率\n",
    "- n = number of compounding periods 期数\n",
    "\n",
    "参考:\n",
    "\n",
    "- [compound interest](https://www.investopedia.com/terms/c/compoundinterest.asp)\n"
   ]
  },
  {
   "cell_type": "markdown",
   "metadata": {},
   "source": [
    "## 有 10 支股票, 3 支可以获利, 7 支将会亏损. 你打算从 10 支股票中选择 4 支, 那么 3 支能够获利的股票中, 至少有 2 支被购买到的概率为:\n",
    "\n",
    "> 答: 0.33\n",
    "\n",
    "这道题未解出.\n"
   ]
  },
  {
   "cell_type": "markdown",
   "metadata": {},
   "source": [
    "已知一批产品次品率为 0.04, 从中任意有放回的抽取 5 个, 恰好有 3 个以下次品的概率为:\n",
    "\n",
    "> 答: 0.994\n",
    "\n",
    "考点: 二项式分布 binomial distribution\n",
    "\n",
    "Probability mass function for binomial distribution\n",
    "\n",
    "$$\n",
    "\\begin{align*}\n",
    "  f(k, n, p) &= Pr(k; n, p) \\\\\n",
    "             &= Pr(X = k) \\\\\n",
    "             &= \\binom{n}{k}p^k(1 - p)^{n-k}\n",
    "\\end{align*}\n",
    "$$\n",
    "\n",
    "Where:\n",
    "\n",
    "- k: 成功的次数\n",
    "- n: 实验的次数\n",
    "- p: 成功的概率\n",
    "\n",
    "本题中问的是 3 个以下次品的概率, 也就是 0 个次品的概率, 1 个次品的概率和 2 个次品的概率, 把他们加到一起就是答案.\n",
    "\n",
    "- 0 个次品的概率, 这里 k=0, n=4, p=0.04, 带入公式得到概率 p=0.84934656\n",
    "- 1 个次品的概率, 这里 k=1, n=4, p=0.04, 带入公式得到概率 p=0.14155776\n",
    "- 2 个次品的概率, 这里 k=2, n=4, p=0.04, 带入公式得到概率 p=0.00884736\n",
    "\n",
    "上面三个概率相加等于 0.99975168\n"
   ]
  },
  {
   "cell_type": "markdown",
   "metadata": {},
   "source": [
    "## 一个离散型的随机变量 X, X=0 的概率为 0.75, X=1 的概率为 0.12, X=2 的概率为 0.08, X=3 的概率为 0.05, 那么 X 的期望值为:\n",
    "\n",
    "> 答: 0.43\n",
    "\n",
    "考点: 期望值 expected\n",
    "\n",
    "Random variables with countably many outcomes\n",
    "\n",
    "$$\n",
    "E[X] = \\sum_{i=1}^{\\infty}x_ip_i\n",
    "$$\n",
    "\n",
    "本题 $E[X] = 0*0.75 + 1*0.12 + 2*0.08 + 3*0.05 = 0.43$\n",
    "\n",
    "参考:\n",
    "\n",
    "- [Expected Value vs. Mean: What's the Difference](https://www.statology.org/expected-value-vs-mean/#:~:text=Expected%20value%20is%20used%20when,value%20of%20a%20given%20sample.)\n"
   ]
  },
  {
   "cell_type": "markdown",
   "metadata": {},
   "source": [
    "## ID3 算法是通过什么来选择特征的?\n",
    "\n",
    "> 答: 信息增益\n",
    "\n",
    "解析:\n",
    "\n",
    "- ID3 是一种分类算法, 用于决策树, 只要通过计算信息增益来决定用数据中的那个属性进行分类\n",
    "- 信息增益是在属性 $A$ 上分割集合 $S$ 之前和之后的熵差的度量. 换句话说, 属性 $A$ 上分割集合 $S$ 后, $S$ 中的不确定性降低了多少.\n",
    "\n",
    "$$\n",
    "\\begin{align*}\n",
    "  IG(S, A) &= H(S) - \\sum_{t \\in T} p(t) H(t) \\\\\n",
    "           &= H(S) - H(S|A)\n",
    "\\end{align*}\n",
    "$$"
   ]
  },
  {
   "cell_type": "markdown",
   "metadata": {},
   "source": [
    "## 逻辑回归中可以用以下那种方法来调整数据?\n",
    "\n",
    "> 答: 最大似然预估 (存疑) \n",
    "\n",
    "解析:\n",
    "\n",
    "- 最大似然预估: 用于参数预估, 比如: 根据测试者对 10 次抛硬币猜对了 7 次的情况, 可以估算出二项式分布函数中的参数 $p$ 的最有可能是 0.7\n",
    "- 最小二乘法: 用于评估拟合效果, 应该也属于一种模型参数调整的方法;\n"
   ]
  },
  {
   "cell_type": "markdown",
   "metadata": {},
   "source": [
    "## 回归分析\n",
    "\n",
    "### 指数系数 R2\n",
    "\n",
    "R2 在线性回归模型中称为\"确定系数\"(coefficient determination), 其值越大表示模型效果约好.\n",
    "\n",
    "公式:\n",
    "\n",
    "$$\n",
    "R^2 = 1 - \\frac{SS_{res}}{SS_{tot}}\n",
    "$$\n",
    "\n",
    "WHere,\n",
    "\n",
    "- $SS_{res}$ 残差平方和\n",
    "- $SS_{tot}$ 误差和\n",
    "\n",
    "如果实际值是 $y$, 预测值是 $\\hat{y}$, 实际值的均值是 $\\bar{Y}$, 那么\n",
    "\n",
    "- 残差 $E1 = y - \\hat{y}$\n",
    "- 误差 $E2 = y - \\bar{Y}$\n",
    "\n",
    "上面的 $R^2$ 公式可以改写为\n",
    "\n",
    "$$\n",
    "R^2 = 1 - \\frac{\\displaystyle\\sum_i^n (y_i - \\hat{y_i})^2}{\\displaystyle\\sum_i^n (y_i - \\bar{Y})^2}\n",
    "$$\n",
    "\n",
    "> References: [Coefficient of Determination-R2 score](https://www.geeksforgeeks.org/python-coefficient-of-determination-r2-score/?ref=lbp)\n",
    "\n",
    "### 残差平方和\n",
    "\n",
    "### 相关系统 r\n",
    "\n",
    "### 残差图"
   ]
  },
  {
   "cell_type": "markdown",
   "metadata": {},
   "source": [
    "## 多元回归\n",
    "\n",
    "### 多重判定系数"
   ]
  },
  {
   "cell_type": "markdown",
   "metadata": {},
   "source": [
    "## 主成分分析和因子分析\n",
    "\n",
    "### 选出主成分分析的步骤"
   ]
  },
  {
   "cell_type": "markdown",
   "metadata": {},
   "source": []
  }
 ],
 "metadata": {
  "interpreter": {
   "hash": "c47b3fd94286b9788ca24a5dc76812a7f3d81a041a874dbfccf1db12dc8e64b6"
  },
  "kernelspec": {
   "display_name": "Python 3.8.5 ('base')",
   "language": "python",
   "name": "python3"
  },
  "language_info": {
   "codemirror_mode": {
    "name": "ipython",
    "version": 3
   },
   "file_extension": ".py",
   "mimetype": "text/x-python",
   "name": "python",
   "nbconvert_exporter": "python",
   "pygments_lexer": "ipython3",
   "version": "3.8.5"
  },
  "orig_nbformat": 4
 },
 "nbformat": 4,
 "nbformat_minor": 2
}
