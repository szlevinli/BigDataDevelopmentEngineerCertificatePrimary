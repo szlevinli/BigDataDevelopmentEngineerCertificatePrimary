{
 "cells": [
  {
   "cell_type": "markdown",
   "metadata": {},
   "source": [
    "# 大数据开发工程师证书(初级)\n",
    "\n",
    "对于来自正态总体的 $n$ 个简单随机样本 $X$, $S^2$ 是 $n$ 个样本的样本方差, $\\delta^2$ 是总体方差, 那么比值 $\\frac{(n-1)S^2}{\\delta^2}$ 可近似服从:\n",
    "\n",
    "> 答: **自由度为 $n-1$ 的 $X^2$ 分布**\n",
    "\n",
    "考点: 卡方分布和 F 分布"
   ]
  },
  {
   "cell_type": "markdown",
   "metadata": {},
   "source": [
    "预计项目 A 在 7 年后可获利 800 万元, 如年利率为 10% 时, 该项目收益现值为:\n",
    "\n",
    "> 答: 410.53\n",
    "\n",
    "考点: 现值 present value (PV), 未来值 future value (FV)\n",
    "\n",
    "$$\n",
    "\\begin{align*}\n",
    "FV &= PV(1 + i)^n \\\\\n",
    "\n",
    "PV &= \\frac{FV}{(1 + i)^n}\n",
    "\\end{align*}\n",
    "$$\n",
    "\n",
    "Where:\n",
    "\n",
    "- i = nominal annual interest rate in percentage terms 利率\n",
    "- n = number of compounding periods 期数\n",
    "\n",
    "本题中 $FV = 800, i = 0.1, n = 7$, 求 $PV$, 带入公式\n",
    "\n",
    "$$\n",
    "\\begin{align*}\n",
    "PV &= \\frac{FV}{(1 + i)^n} \\\\\n",
    "   &= \\frac{800}{(1 + 0.1)^7} \\\\\n",
    "   &= 410.53 \n",
    "\\end{align*}\n",
    "$$\n",
    "\n",
    "\n",
    "复利 compound interest\n",
    "\n",
    "$$\n",
    "\\begin{align*}\n",
    "CompoundInterest &= [P(1+i)^n]-P \\\\\n",
    "                  &= P[(1+i)^n-1]\n",
    "\\end{align*}\n",
    "$$\n",
    "\n",
    "Where:\n",
    "\n",
    "- P = principal 本金\n",
    "- i = nominal annual interest rate in percentage terms 利率\n",
    "- n = number of compounding periods 期数\n",
    "\n",
    "参考:\n",
    "\n",
    "- [compound interest](https://www.investopedia.com/terms/c/compoundinterest.asp)\n"
   ]
  },
  {
   "cell_type": "markdown",
   "metadata": {},
   "source": [
    "有 10 支股票, 3 支可以获利, 7 支将会亏损. 你打算从 10 支股票中选择 4 支, 那么 3 支能够获利的股票中, 至少有 2 支被购买到的概率为:\n",
    "\n",
    "> 答: 0.33\n",
    "\n",
    "这道题未解出."
   ]
  },
  {
   "cell_type": "markdown",
   "metadata": {},
   "source": [
    "已知一批产品次品率为 0.04, 从中任意有放回的抽取 5 个, 恰好有 3 个以下次品的概率为:\n",
    "\n",
    "> 答: 0.994\n",
    "\n",
    "考点: 二项式分布 binomial distribution\n",
    "\n",
    "Probability mass function for binomial distribution\n",
    "\n",
    "$$\n",
    "\\begin{align*}\n",
    "  f(k, n, p) &= Pr(k; n, p) \\\\\n",
    "             &= Pr(X = k) \\\\\n",
    "             &= \\binom{n}{k}p^k(1 - p)^{n-k}\n",
    "\\end{align*}\n",
    "$$\n",
    "\n",
    "Where:\n",
    "\n",
    "- k: 成功的次数\n",
    "- n: 实验的次数\n",
    "- p: 成功的概率\n",
    "\n",
    "本题中问的是 3 个以下次品的概率, 也就是 0 个次品的概率, 1 个次品的概率和 2 个次品的概率, 把他们加到一起就是答案.\n",
    "\n",
    "- 0 个次品的概率, 这里 k=0, n=4, p=0.04, 带入公式得到概率 p=0.84934656\n",
    "- 1 个次品的概率, 这里 k=1, n=4, p=0.04, 带入公式得到概率 p=0.14155776\n",
    "- 2 个次品的概率, 这里 k=2, n=4, p=0.04, 带入公式得到概率 p=0.00884736\n",
    "\n",
    "上面三个概率相加等于 0.99975168"
   ]
  }
 ],
 "metadata": {
  "interpreter": {
   "hash": "c47b3fd94286b9788ca24a5dc76812a7f3d81a041a874dbfccf1db12dc8e64b6"
  },
  "kernelspec": {
   "display_name": "Python 3.8.5 ('base')",
   "language": "python",
   "name": "python3"
  },
  "language_info": {
   "name": "python",
   "version": "3.8.5"
  },
  "orig_nbformat": 4
 },
 "nbformat": 4,
 "nbformat_minor": 2
}
